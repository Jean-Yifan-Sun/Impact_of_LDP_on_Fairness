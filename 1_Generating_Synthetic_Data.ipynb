{
 "cells": [
  {
   "cell_type": "markdown",
   "metadata": {},
   "source": [
    "## General imports"
   ]
  },
  {
   "cell_type": "code",
   "execution_count": 77,
   "metadata": {},
   "outputs": [],
   "source": [
    "import pandas as pd\n",
    "import numpy as np\n",
    "import copy\n",
    "from copy import deepcopy\n",
    "from sklearn import preprocessing"
   ]
  },
  {
   "cell_type": "markdown",
   "metadata": {},
   "source": [
    "## Defining the structural equations of the synthetic model"
   ]
  },
  {
   "cell_type": "code",
   "execution_count": 45,
   "metadata": {},
   "outputs": [],
   "source": [
    "def generate_synthetic_data(p,n):\n",
    "    C = np.random.binomial(1,p,n)\n",
    "    A = [np.random.binomial(1,0.55,1)[0] if c ==0 else np.random.binomial(1,0.75,1)[0] for c in C]\n",
    "    M = [np.random.choice(3, 1, p=[0.5, 0.4, 0.1])[0] if a==0 else np.random.choice(3, 1, p=[0.35, 0.4, 0.25])[0] for a in A]\n",
    "    Y = [0.5*c + 0.75*a + 0.6*m + np.random.normal(size=1) [0] for c,a,m in zip(C,A,M)]\n",
    "    df = pd.DataFrame({'C': C, 'A': A, 'M': M, 'Y': Y})\n",
    "    return df"
   ]
  },
  {
   "cell_type": "code",
   "execution_count": 58,
   "metadata": {},
   "outputs": [],
   "source": [
    "df = generate_synthetic_data(0.35,100000)"
   ]
  },
  {
   "cell_type": "code",
   "execution_count": 59,
   "metadata": {},
   "outputs": [],
   "source": [
    "#scaling the target\n",
    "df.Y = preprocessing.minmax_scale(df.Y, feature_range=(0, 1), axis=0, copy=True)"
   ]
  },
  {
   "cell_type": "markdown",
   "metadata": {},
   "source": [
    "## Binarizing the target and generating the different datasets"
   ]
  },
  {
   "cell_type": "code",
   "execution_count": null,
   "metadata": {},
   "outputs": [],
   "source": [
    "# setting the three thresholds\n",
    "th1=df.Y.quantile(0.25)\n",
    "th2=df.Y.quantile(0.5)\n",
    "th3=df.Y.quantile(0.75) \n",
    "# important note: if we choose a threshold th1-0.1 or th3+0.1 --> fair results --> LDP has No impact on fairness\n",
    "list_th = [th1,th2,th3]\n",
    "synthCopy = deepcopy(df)\n",
    "for th in list_th:\n",
    "    df['Y'] = np.where(df['Y'] > th, 1, 0)\n",
    "    df.to_csv('Datasets/Draft/S1_' + str(round(th,2)) + '.csv', index=False) # saving the generated datasets\n",
    "    df['Y'] = synthCopy['Y']"
   ]
  }
 ],
 "metadata": {
  "kernelspec": {
   "display_name": "Python 3",
   "language": "python",
   "name": "python3"
  },
  "language_info": {
   "codemirror_mode": {
    "name": "ipython",
    "version": 3
   },
   "file_extension": ".py",
   "mimetype": "text/x-python",
   "name": "python",
   "nbconvert_exporter": "python",
   "pygments_lexer": "ipython3",
   "version": "3.7.3"
  }
 },
 "nbformat": 4,
 "nbformat_minor": 2
}
